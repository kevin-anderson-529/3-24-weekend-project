{
 "cells": [
  {
   "cell_type": "markdown",
   "metadata": {},
   "source": [
    "# AirBnB NY Locations Data Case Study\n",
    "\n",
    "In this final project, you task will be to take the data provided and find evidance to answer the following questions.\n",
    "\n",
    "1. Which hosts are the busiest and why?\n",
    "2. How many neighborhood groups are available and which shows up the most?\n",
    "3. Are private rooms the most popular in manhattan?\n",
    "4. Which hosts are the busiest and based on their reviews?\n",
    "5. Which neighorhood group has the highest average price?\n",
    "6. Which neighborhood group has the highest total price?\n",
    "7. Which top 5 hosts have the highest total price?\n",
    "8. Who currently has no (zero) availability with a review count of 100 or more?\n",
    "9. What host has the highest total of prices and where are they located?\n",
    "10. When did Danielle from Queens last receive a review?\n",
    "\n",
    "You will be given **4 hours** to complete this assignment. \n",
    "**Be Advised** I will go dark for this intire assignment time period. That said, any questions that you would like to ask about the data, or the project **MUST** be asked before the time starts. Once the time has started, I can no longer give information.\n",
    "\n",
    "This is to similate what you will face when you are out in the wild. \n",
    "\n",
    "Happy Coding!"
   ]
  },
  {
   "cell_type": "code",
   "execution_count": 2,
   "metadata": {},
   "outputs": [],
   "source": [
    "import numpy as np\n",
    "import pandas as pd\n",
    "import matplotlib.pyplot as plt"
   ]
  },
  {
   "cell_type": "code",
   "execution_count": 3,
   "metadata": {},
   "outputs": [
    {
     "data": {
      "text/html": [
       "<div>\n",
       "<style scoped>\n",
       "    .dataframe tbody tr th:only-of-type {\n",
       "        vertical-align: middle;\n",
       "    }\n",
       "\n",
       "    .dataframe tbody tr th {\n",
       "        vertical-align: top;\n",
       "    }\n",
       "\n",
       "    .dataframe thead th {\n",
       "        text-align: right;\n",
       "    }\n",
       "</style>\n",
       "<table border=\"1\" class=\"dataframe\">\n",
       "  <thead>\n",
       "    <tr style=\"text-align: right;\">\n",
       "      <th></th>\n",
       "      <th>id</th>\n",
       "      <th>name</th>\n",
       "      <th>host_id</th>\n",
       "      <th>host_name</th>\n",
       "      <th>neighbourhood_group</th>\n",
       "      <th>neighbourhood</th>\n",
       "      <th>latitude</th>\n",
       "      <th>longitude</th>\n",
       "      <th>room_type</th>\n",
       "      <th>price</th>\n",
       "      <th>minimum_nights</th>\n",
       "      <th>number_of_reviews</th>\n",
       "      <th>last_review</th>\n",
       "      <th>reviews_per_month</th>\n",
       "      <th>calculated_host_listings_count</th>\n",
       "      <th>availability_365</th>\n",
       "    </tr>\n",
       "  </thead>\n",
       "  <tbody>\n",
       "    <tr>\n",
       "      <th>0</th>\n",
       "      <td>2539</td>\n",
       "      <td>Clean &amp; quiet apt home by the park</td>\n",
       "      <td>2787</td>\n",
       "      <td>John</td>\n",
       "      <td>Brooklyn</td>\n",
       "      <td>Kensington</td>\n",
       "      <td>40.64749</td>\n",
       "      <td>-73.97237</td>\n",
       "      <td>Private room</td>\n",
       "      <td>149</td>\n",
       "      <td>1</td>\n",
       "      <td>9</td>\n",
       "      <td>2018-10-19</td>\n",
       "      <td>0.21</td>\n",
       "      <td>6</td>\n",
       "      <td>365</td>\n",
       "    </tr>\n",
       "    <tr>\n",
       "      <th>1</th>\n",
       "      <td>2595</td>\n",
       "      <td>Skylit Midtown Castle</td>\n",
       "      <td>2845</td>\n",
       "      <td>Jennifer</td>\n",
       "      <td>Manhattan</td>\n",
       "      <td>Midtown</td>\n",
       "      <td>40.75362</td>\n",
       "      <td>-73.98377</td>\n",
       "      <td>Entire home/apt</td>\n",
       "      <td>225</td>\n",
       "      <td>1</td>\n",
       "      <td>45</td>\n",
       "      <td>2019-05-21</td>\n",
       "      <td>0.38</td>\n",
       "      <td>2</td>\n",
       "      <td>355</td>\n",
       "    </tr>\n",
       "    <tr>\n",
       "      <th>2</th>\n",
       "      <td>3647</td>\n",
       "      <td>THE VILLAGE OF HARLEM....NEW YORK !</td>\n",
       "      <td>4632</td>\n",
       "      <td>Elisabeth</td>\n",
       "      <td>Manhattan</td>\n",
       "      <td>Harlem</td>\n",
       "      <td>40.80902</td>\n",
       "      <td>-73.94190</td>\n",
       "      <td>Private room</td>\n",
       "      <td>150</td>\n",
       "      <td>3</td>\n",
       "      <td>0</td>\n",
       "      <td>NaN</td>\n",
       "      <td>NaN</td>\n",
       "      <td>1</td>\n",
       "      <td>365</td>\n",
       "    </tr>\n",
       "    <tr>\n",
       "      <th>3</th>\n",
       "      <td>3831</td>\n",
       "      <td>Cozy Entire Floor of Brownstone</td>\n",
       "      <td>4869</td>\n",
       "      <td>LisaRoxanne</td>\n",
       "      <td>Brooklyn</td>\n",
       "      <td>Clinton Hill</td>\n",
       "      <td>40.68514</td>\n",
       "      <td>-73.95976</td>\n",
       "      <td>Entire home/apt</td>\n",
       "      <td>89</td>\n",
       "      <td>1</td>\n",
       "      <td>270</td>\n",
       "      <td>2019-07-05</td>\n",
       "      <td>4.64</td>\n",
       "      <td>1</td>\n",
       "      <td>194</td>\n",
       "    </tr>\n",
       "    <tr>\n",
       "      <th>4</th>\n",
       "      <td>5022</td>\n",
       "      <td>Entire Apt: Spacious Studio/Loft by central park</td>\n",
       "      <td>7192</td>\n",
       "      <td>Laura</td>\n",
       "      <td>Manhattan</td>\n",
       "      <td>East Harlem</td>\n",
       "      <td>40.79851</td>\n",
       "      <td>-73.94399</td>\n",
       "      <td>Entire home/apt</td>\n",
       "      <td>80</td>\n",
       "      <td>10</td>\n",
       "      <td>9</td>\n",
       "      <td>2018-11-19</td>\n",
       "      <td>0.10</td>\n",
       "      <td>1</td>\n",
       "      <td>0</td>\n",
       "    </tr>\n",
       "  </tbody>\n",
       "</table>\n",
       "</div>"
      ],
      "text/plain": [
       "     id                                              name  host_id  \\\n",
       "0  2539                Clean & quiet apt home by the park     2787   \n",
       "1  2595                             Skylit Midtown Castle     2845   \n",
       "2  3647               THE VILLAGE OF HARLEM....NEW YORK !     4632   \n",
       "3  3831                   Cozy Entire Floor of Brownstone     4869   \n",
       "4  5022  Entire Apt: Spacious Studio/Loft by central park     7192   \n",
       "\n",
       "     host_name neighbourhood_group neighbourhood  latitude  longitude  \\\n",
       "0         John            Brooklyn    Kensington  40.64749  -73.97237   \n",
       "1     Jennifer           Manhattan       Midtown  40.75362  -73.98377   \n",
       "2    Elisabeth           Manhattan        Harlem  40.80902  -73.94190   \n",
       "3  LisaRoxanne            Brooklyn  Clinton Hill  40.68514  -73.95976   \n",
       "4        Laura           Manhattan   East Harlem  40.79851  -73.94399   \n",
       "\n",
       "         room_type  price  minimum_nights  number_of_reviews last_review  \\\n",
       "0     Private room    149               1                  9  2018-10-19   \n",
       "1  Entire home/apt    225               1                 45  2019-05-21   \n",
       "2     Private room    150               3                  0         NaN   \n",
       "3  Entire home/apt     89               1                270  2019-07-05   \n",
       "4  Entire home/apt     80              10                  9  2018-11-19   \n",
       "\n",
       "   reviews_per_month  calculated_host_listings_count  availability_365  \n",
       "0               0.21                               6               365  \n",
       "1               0.38                               2               355  \n",
       "2                NaN                               1               365  \n",
       "3               4.64                               1               194  \n",
       "4               0.10                               1                 0  "
      ]
     },
     "execution_count": 3,
     "metadata": {},
     "output_type": "execute_result"
    }
   ],
   "source": [
    "air_bnb = pd.read_csv(r'C:\\Users\\kevin\\OneDrive\\Desktop\\Coding Temple\\Week 3 (Python)\\AB_NYC_2019 (1).csv')\n",
    "air_bnb.head()"
   ]
  },
  {
   "cell_type": "code",
   "execution_count": 4,
   "metadata": {},
   "outputs": [
    {
     "name": "stdout",
     "output_type": "stream",
     "text": [
      "The unique values for neighborhood group are:\n",
      "['Brooklyn' 'Manhattan' 'Queens' 'Staten Island' 'Bronx']\n",
      "The number of neighborhoods is 5\n",
      "\n",
      "Below is how many times each neighborhood is listed:\n",
      "Manhattan        21661\n",
      "Brooklyn         20104\n",
      "Queens            5666\n",
      "Bronx             1091\n",
      "Staten Island      373\n",
      "Name: neighbourhood_group, dtype: int64\n"
     ]
    }
   ],
   "source": [
    "# How many neighborhood groups are available and which shows up the most?\n",
    "df = pd.read_csv(r'C:\\Users\\kevin\\OneDrive\\Desktop\\Coding Temple\\Week 3 (Python)\\AB_NYC_2019 (1).csv')\n",
    "unique_values =df['neighbourhood_group'].unique()\n",
    "print(\"The unique values for neighborhood group are:\")\n",
    "print(unique_values)\n",
    "num_unique_values = df['neighbourhood_group'].nunique()\n",
    "print(f\"The number of neighborhoods is {num_unique_values}\")\n",
    "value_counts = df['neighbourhood_group'].value_counts()\n",
    "print(\"\\nBelow is how many times each neighborhood is listed:\")\n",
    "print(value_counts)\n"
   ]
  },
  {
   "cell_type": "code",
   "execution_count": 5,
   "metadata": {},
   "outputs": [
    {
     "name": "stdout",
     "output_type": "stream",
     "text": [
      "\n",
      "Below is how many times each room type is listed:\n",
      "Entire home/apt    25409\n",
      "Private room       22326\n",
      "Shared room         1160\n",
      "Name: room_type, dtype: int64\n",
      "\n",
      "In Manhattan specifically, the room types are:\n",
      "Entire home/apt    13199\n",
      "Private room        7982\n",
      "Shared room          480\n",
      "Name: room_type, dtype: int64\n",
      "\n",
      "This shows that an Entire home/apt is the most popular.\n"
     ]
    }
   ],
   "source": [
    "# Are private rooms the most popular in manhattan?\n",
    "\n",
    "value_counts = df['room_type'].value_counts()\n",
    "print(\"\\nBelow is how many times each room type is listed:\")\n",
    "print(value_counts)\n",
    "print(\"\\nIn Manhattan specifically, the room types are:\")\n",
    "manhattan_df = df[df['neighbourhood_group'] == 'Manhattan']\n",
    "room_type_counts = manhattan_df['room_type'].value_counts()\n",
    "print(room_type_counts)\n",
    "print(\"\\nThis shows that an Entire home/apt is the most popular.\")"
   ]
  },
  {
   "cell_type": "code",
   "execution_count": 14,
   "metadata": {},
   "outputs": [
    {
     "name": "stdout",
     "output_type": "stream",
     "text": [
      "the host with the most reviews, and therefore the most popular is Michael with 11081 reviews.\n",
      "The 5 busiest hosts are:\n",
      "Michael with 11081 reviews.\n",
      "David with 8103 reviews.\n",
      "John with 7223 reviews.\n",
      "Jason with 6522 reviews.\n",
      "Alex with 6204 reviews.\n",
      "\n",
      "\n",
      "The hosts with the highest mean number of reviews per month are:\n",
      "Dona with 602.50 reviews per month.\n",
      "Asa with 488.00 reviews per month.\n",
      "Dennis & Naoko with 441.00 reviews per month.\n",
      "Miss Dy with 434.00 reviews per month.\n",
      "Shunichi with 430.00 reviews per month.\n"
     ]
    },
    {
     "name": "stderr",
     "output_type": "stream",
     "text": [
      "C:\\Users\\kevin\\AppData\\Local\\Temp\\ipykernel_7432\\2329955453.py:11: FutureWarning: iteritems is deprecated and will be removed in a future version. Use .items instead.\n",
      "  for host, reviews in busiest_hosts.iteritems():\n",
      "C:\\Users\\kevin\\AppData\\Local\\Temp\\ipykernel_7432\\2329955453.py:21: FutureWarning: iteritems is deprecated and will be removed in a future version. Use .items instead.\n",
      "  for host, mean_reviews_per_month in busiest_hosts.iteritems():\n"
     ]
    }
   ],
   "source": [
    "# Which hosts are the busiest and based on their reviews?\n",
    "df = pd.read_csv(r'C:\\Users\\kevin\\OneDrive\\Desktop\\Coding Temple\\Week 3 (Python)\\AB_NYC_2019 (1).csv')\n",
    "host_review_sums = df.groupby('host_name')['number_of_reviews'].sum()\n",
    "host_with_most_reviews = host_review_sums.idxmax()\n",
    "most_reviews = host_review_sums.max()\n",
    "print(f\"the host with the most reviews, and therefore the most popular is {host_with_most_reviews} with {most_reviews} reviews.\")\n",
    "\n",
    "host_review_sums = df.groupby('host_name')['number_of_reviews'].sum()\n",
    "busiest_hosts = host_review_sums.nlargest(5)\n",
    "print(\"The 5 busiest hosts are:\")\n",
    "for host, reviews in busiest_hosts.iteritems():\n",
    "    print(f\"{host} with {reviews} reviews.\")\n",
    "print(\"\\n\")\n",
    "df[\"reviews_per_month\"] = pd.to_datetime(df[\"reviews_per_month\"])\n",
    "\n",
    "reviews_per_month = df.groupby([\"host_name\", pd.Grouper(key=\"reviews_per_month\", freq=\"M\")])[\"number_of_reviews\"].mean()\n",
    "\n",
    "busiest_hosts = reviews_per_month.groupby(\"host_name\").mean().nlargest(5)\n",
    "\n",
    "print(\"The hosts with the highest mean number of reviews per month are:\")\n",
    "for host, mean_reviews_per_month in busiest_hosts.iteritems():\n",
    "    print(f\"{host} with {mean_reviews_per_month:.2f} reviews per month.\")\n"
   ]
  },
  {
   "cell_type": "code",
   "execution_count": null,
   "metadata": {},
   "outputs": [
    {
     "name": "stdout",
     "output_type": "stream",
     "text": [
      "Manhattan is the neighborhood with the highest average price, the average price being $196.8758136743456.\n"
     ]
    }
   ],
   "source": [
    "#Which neighorhood group has the highest average price?\n",
    "grouped_mean_prices = df.groupby('neighbourhood_group')['price'].mean()\n",
    "highest_avg_price_group = grouped_mean_prices.idxmax()\n",
    "highest_avg_price = grouped_mean_prices.max()\n",
    "print(f\"{highest_avg_price_group} is the neighborhood with the highest average price, the average price being ${highest_avg_price}.\")"
   ]
  },
  {
   "cell_type": "code",
   "execution_count": 34,
   "metadata": {},
   "outputs": [
    {
     "name": "stdout",
     "output_type": "stream",
     "text": [
      "The neighborhood with the higest total price is Manhattan with a total price of $4264527.\n"
     ]
    }
   ],
   "source": [
    "# Which neighbor hood group has the highest total price?\n",
    "grouped_total_prices = df.groupby('neighbourhood_group')['price'].sum()\n",
    "highest_total_price_group = grouped_total_prices.idxmax()\n",
    "highest_total_price = grouped_total_prices.max()\n",
    "print(f\"The neighborhood with the higest total price is {highest_total_price_group} with a total price of ${highest_total_price}.\")"
   ]
  },
  {
   "cell_type": "code",
   "execution_count": 43,
   "metadata": {},
   "outputs": [
    {
     "name": "stdout",
     "output_type": "stream",
     "text": [
      "The top 5 hosts with the highest prices are:\n"
     ]
    },
    {
     "data": {
      "text/plain": [
       "host_name\n",
       "Sonder (NYC)    82795\n",
       "Blueground      70331\n",
       "Michael         66895\n",
       "David           65844\n",
       "Alex            52563\n",
       "Name: price, dtype: int64"
      ]
     },
     "metadata": {},
     "output_type": "display_data"
    }
   ],
   "source": [
    "#Which top 5 hosts have the highest total price?\n",
    "import pandas as pd\n",
    "df = pd.read_csv(r'C:\\Users\\kevin\\OneDrive\\Desktop\\Coding Temple\\Week 3 (Python)\\AB_NYC_2019 (1).csv')\n",
    "grouped_total_prices = df.groupby('host_name')['price'].sum()\n",
    "top_5_hosts = grouped_total_prices.nlargest(5)\n",
    "print(\"The top 5 hosts with the highest prices are:\")\n",
    "display(top_5_hosts)"
   ]
  },
  {
   "cell_type": "code",
   "execution_count": 4,
   "metadata": {},
   "outputs": [
    {
     "name": "stdout",
     "output_type": "stream",
     "text": [
      "Hosts without any availability who also have a review count of 100 or more are:\n",
      "['MaryEllen', 'Christiana', 'Sol', 'Coral', 'Doug', 'Ori', 'Lissette', 'Liz And Melissa', 'Ivy', 'Jsun', 'Wanda', 'Ben', 'S', 'Adrienne', 'Lydia', 'Karin', 'Elle', 'James', 'Jon', 'Liz', 'Jeanine', 'Lorena', 'Ron', 'Dragan', 'Misty', 'Brian', 'Natalie', 'AJ And Freddy', 'Neil & Katie', 'Emily', 'Evelyn', 'Alvaro', 'Bernard', 'Sarah', 'Karen', 'Summer', 'William', 'Andy & Friends', 'Karece', 'Andy & Friends', 'Ehren', 'Nicole', 'Terri', 'Ravanna', 'Molly', 'Lane', 'Angelo', 'DeLex', 'Michelle', 'Katarina', 'Véronique', 'Andreas', 'Caroline', 'Michael', 'Aurea', 'Kent', 'Brendan', 'Jillian', 'Deanna', 'Jake', 'Emily And Joel', 'Brian', 'George & Diana', 'Veronica', 'Masha', 'William', 'Danielle', 'Jeremy', 'Kyle', 'Stacey', 'Sasha', 'Nick', 'Carlina', 'Taylor & Tee', 'Devin', 'Ame', 'Richard', 'Micah', 'Elliott', '正川', 'Chao', 'Pj', 'Lou', 'Ingrid', 'Emily And Joel', 'Graham', 'Gurpreet  Singh', 'Gurpreet  Singh', 'Jimmy', 'Catrina', 'Long', 'Deborah', 'Hayes', 'Hayes', 'Evan', 'Sofia', 'Sofia', 'Antonia', 'Margarita', 'Abraham', 'Alex', 'Qiyao', 'Cedrick', 'Greg', 'Chelsea', 'Kc', 'Edward', 'Lasata', 'Krysta', 'Maeve', 'Erin', 'Trevor', 'Giovanni', 'Anthony', 'Chadanut', 'Dante', 'Braydon', 'Gillian', 'Fred', 'Maba', 'Steven', 'Marisha', 'Alex', 'Felipe', 'Airamis', 'Anna', 'Michael', 'Michael', 'Michael', 'Raymond', 'Michael', 'Gabriela', 'Gabriela', 'Kaka', 'Benjamin', 'Jo & Savannah', 'Jo & Savannah', 'J', 'Alexandra', 'Mohamed', 'Mohamed', 'Deloris', 'Deloris', 'Megan E', 'Brian', 'Gurpreet  Singh', 'Gurpreet  Singh', 'Yuval', 'Marcelo', 'Jie', 'Brendan', 'Sam', 'Andrew', 'Ash', 'Jenifer', 'Louise', nan, 'Kathleen', 'Janet', 'Albert', 'Stephany', 'Mariluz']\n"
     ]
    }
   ],
   "source": [
    "# Who currently has no (zero) availability with a review count of 100 or more?\n",
    "import pandas as pd\n",
    "df = pd.read_csv(r'C:\\Users\\kevin\\OneDrive\\Desktop\\Coding Temple\\Week 3 (Python)\\AB_NYC_2019 (1).csv')\n",
    "\n",
    "filtered_df = df[(df['availability_365'] == 0) &(df['number_of_reviews'] >= 100)]\n",
    "\n",
    "print(\"Hosts without any availability who also have a review count of 100 or more are:\")\n",
    "\n",
    "filtered_host_names = filtered_df['host_name'].to_list()\n",
    "print(filtered_host_names)"
   ]
  },
  {
   "cell_type": "code",
   "execution_count": 8,
   "metadata": {},
   "outputs": [
    {
     "name": "stdout",
     "output_type": "stream",
     "text": [
      "The host with the highest total price is 'Sonder (NYC)' (host ID: 219517861), with a total price of $82795.\n",
      "They are located in Financial District, Murray Hill, Hell's Kitchen, Midtown, Theater District, Chelsea, Upper East Side.\n"
     ]
    }
   ],
   "source": [
    "# What host has the highest total of prices and where are they located?\n",
    "import pandas as pd\n",
    "df = pd.read_csv(r'C:\\Users\\kevin\\OneDrive\\Desktop\\Coding Temple\\Week 3 (Python)\\AB_NYC_2019 (1).csv')\n",
    "\n",
    "grouped_total_prices = df.groupby('host_id')['price'].sum()\n",
    "host_highest_price = grouped_total_prices.idxmax()\n",
    "host_info = df[df['host_id'] == host_highest_price]\n",
    "host_name = host_info['host_name'].iloc[0]\n",
    "highest_total_price = grouped_total_prices[host_highest_price]\n",
    "locations = host_info['neighbourhood'].unique()\n",
    "\n",
    "print(f\"The host with the highest total price is '{host_name}' (host ID: {host_highest_price}), with a total price of ${highest_total_price}.\")\n",
    "print(f\"They are located in {', '.join(locations)}.\")"
   ]
  },
  {
   "cell_type": "code",
   "execution_count": 7,
   "metadata": {},
   "outputs": [
    {
     "name": "stdout",
     "output_type": "stream",
     "text": [
      "The last time Danielle from Queens received a review was on 2019-07-08 00:00:00.\n"
     ]
    }
   ],
   "source": [
    "# When did Danielle from Queens last receive a review?\n",
    "import pandas as pd\n",
    "\n",
    "df = pd.read_csv(r'C:\\Users\\kevin\\OneDrive\\Desktop\\Coding Temple\\Week 3 (Python)\\AB_NYC_2019 (1).csv')\n",
    "\n",
    "df['last_review'] = pd.to_datetime(df['last_review'], errors='coerce')\n",
    "\n",
    "danielle_review = df[(df['host_name'] == 'Danielle') & (df['neighbourhood_group'] == 'Queens')]\n",
    "\n",
    "last_review_date = danielle_review['last_review'].max()\n",
    "\n",
    "print(f\"The last time Danielle from Queens received a review was on {last_review_date}.\")"
   ]
  },
  {
   "cell_type": "markdown",
   "metadata": {},
   "source": [
    "## Further Questions\n",
    "\n",
    "1. Which host has the most listings?"
   ]
  },
  {
   "cell_type": "code",
   "execution_count": 8,
   "metadata": {},
   "outputs": [
    {
     "name": "stdout",
     "output_type": "stream",
     "text": [
      "Sonder (NYC), id: 219517861 has the most listings with 327 listings.\n"
     ]
    }
   ],
   "source": [
    "import pandas as pd\n",
    "\n",
    "df = pd.read_csv(r'C:\\Users\\kevin\\OneDrive\\Desktop\\Coding Temple\\Week 3 (Python)\\AB_NYC_2019 (1).csv')\n",
    "\n",
    "listing_counts = df.groupby('host_id').size()\n",
    "host_most_listings = listing_counts.idxmax()\n",
    "host_info = df[df['host_id'] == host_most_listings].iloc[0]\n",
    "host_name = host_info['host_name']\n",
    "num_listings = listing_counts[host_most_listings]\n",
    "print (f\"{host_name}, id: {host_most_listings} has the most listings with {num_listings} listings.\")"
   ]
  },
  {
   "cell_type": "markdown",
   "metadata": {},
   "source": [
    "2. How many listings have completely open availability?"
   ]
  },
  {
   "cell_type": "code",
   "execution_count": 9,
   "metadata": {},
   "outputs": [
    {
     "name": "stdout",
     "output_type": "stream",
     "text": [
      "There are 1295 listings with completely open availability.\n"
     ]
    }
   ],
   "source": [
    "import pandas as pd\n",
    "df = pd.read_csv(r'C:\\Users\\kevin\\OneDrive\\Desktop\\Coding Temple\\Week 3 (Python)\\AB_NYC_2019 (1).csv')\n",
    "completely_open = df[df['availability_365'] == 365]\n",
    "num_completely_open = len(completely_open)\n",
    "print(f\"There are {num_completely_open} listings with completely open availability.\")"
   ]
  },
  {
   "cell_type": "markdown",
   "metadata": {},
   "source": [
    "3. What room_types have the highest review numbers?"
   ]
  },
  {
   "cell_type": "code",
   "execution_count": 13,
   "metadata": {},
   "outputs": [
    {
     "name": "stdout",
     "output_type": "stream",
     "text": [
      "The room type with the highest reviews is: room_type\n",
      "Entire home/apt    580403\n",
      "Name: number_of_reviews, dtype: int64\n"
     ]
    }
   ],
   "source": [
    "import pandas as pd\n",
    "df = pd.read_csv(r'C:\\Users\\kevin\\OneDrive\\Desktop\\Coding Temple\\Week 3 (Python)\\AB_NYC_2019 (1).csv')\n",
    "grouped_reviews = df.groupby('room_type')['number_of_reviews'].sum()\n",
    "highest_room_type_review = grouped_reviews[grouped_reviews == grouped_reviews.max()]\n",
    "print(f\"The room type with the highest reviews is: {highest_room_type_review}\")"
   ]
  },
  {
   "attachments": {},
   "cell_type": "markdown",
   "metadata": {},
   "source": [
    "# Final Conclusion\n",
    "\n",
    "In this cell, write your final conclusion for each of the questions asked.\n",
    "\n",
    "Also, if you uncovered some more details that were not asked above, please discribe them here.\n",
    "\n",
    "-- Add your conclusion --\n",
    "\n",
    "1. Which hosts are the busiest and why?\n",
    "\n",
    "I picked these hosts because they are the top 5 with the most reviews per month:\n",
    "\n",
    "Dona with 602.50 reviews per month.\n",
    "Asa with 488.00 reviews per month.\n",
    "Dennis & Naoko with 441.00 reviews per month.\n",
    "Miss Dy with 434.00 reviews per month.\n",
    "Shunichi with 430.00 reviews per month.\n",
    "\n",
    "I picked the busiest hosts based on which 5 hosts had the top reviews.\n",
    "\n",
    "Michael had 11081 reviews.\n",
    "David had 8103 reviews.\n",
    "John had 7223 reviews.\n",
    "Jason had 6522 reviews.\n",
    "Alex had 6204 reviews.\n",
    "\n",
    "2. How many neighborhood groups are available and which shows up the most?\n",
    "\n",
    "There are 5 neighborhood groups availalble with Manhattan showing up the most.\n",
    "\n",
    "3. Are private rooms the most popular in manhattan?\n",
    "\n",
    "The most popular room type in Manhattan is an Entire home/apt with a count of 13199.\n",
    "\n",
    "4. Which hosts are the busiest and based on their reviews?\n",
    "\n",
    "I picked the busiest hosts based on which 5 hosts had the top reviews.\n",
    "\n",
    "Michael had 11081 reviews.\n",
    "David had 8103 reviews.\n",
    "John had 7223 reviews.\n",
    "Jason had 6522 reviews.\n",
    "Alex had 6204 reviews.\n",
    "\n",
    "5. Which neighorhood group has the highest average price?\n",
    "\n",
    "Manhattan has the highest average price, the average price being $197.00\n",
    "\n",
    "\n",
    "6. Which neighborhood group has the highest total price?\n",
    "\n",
    "Manhattan has the highest total price which is $4,264,527.\n",
    "\n",
    "7. Which top 5 hosts have the highest total price?\n",
    "\n",
    "The top 5 hosts with the highest total prices are below along with their total prices.\n",
    "\n",
    "Sonder (NYC)    $82,795\n",
    "Blueground      $70,331\n",
    "Michael         $66,895\n",
    "David           $65,844\n",
    "Alex            $52,563\n",
    "\n",
    "8. Who currently has no (zero) availability with a review count of 100 or more?\n",
    "\n",
    "There are a lot of hosts wtih a review count of 100 or more who don't have any availabity. They are in the below list:\n",
    "\n",
    "['MaryEllen', 'Christiana', 'Sol', 'Coral', 'Doug', 'Ori', 'Lissette', 'Liz And Melissa', 'Ivy', 'Jsun', 'Wanda', 'Ben', 'S', 'Adrienne', 'Lydia', 'Karin', 'Elle', 'James', 'Jon', 'Liz', 'Jeanine', 'Lorena', 'Ron', 'Dragan', 'Misty', 'Brian', 'Natalie', 'AJ And Freddy', 'Neil & Katie', 'Emily', 'Evelyn', 'Alvaro', 'Bernard', 'Sarah', 'Karen', 'Summer', 'William', 'Andy & Friends', 'Karece', 'Andy & Friends', 'Ehren', 'Nicole', 'Terri', 'Ravanna', 'Molly', 'Lane', 'Angelo', 'DeLex', 'Michelle', 'Katarina', 'Véronique', 'Andreas', 'Caroline', 'Michael', 'Aurea', 'Kent', 'Brendan', 'Jillian', 'Deanna', 'Jake', 'Emily And Joel', 'Brian', 'George & Diana', 'Veronica', 'Masha', 'William', 'Danielle', 'Jeremy', 'Kyle', 'Stacey', 'Sasha', 'Nick', 'Carlina', 'Taylor & Tee', 'Devin', 'Ame', 'Richard', 'Micah', 'Elliott', '正川', 'Chao', 'Pj', 'Lou', 'Ingrid', 'Emily And Joel', 'Graham', 'Gurpreet  Singh', 'Gurpreet  Singh', 'Jimmy', 'Catrina', 'Long', 'Deborah', 'Hayes', 'Hayes', 'Evan', 'Sofia', 'Sofia', 'Antonia', 'Margarita', 'Abraham', 'Alex', 'Qiyao', 'Cedrick', 'Greg', 'Chelsea', 'Kc', 'Edward', 'Lasata', 'Krysta', 'Maeve', 'Erin', 'Trevor', 'Giovanni', 'Anthony', 'Chadanut', 'Dante', 'Braydon', 'Gillian', 'Fred', 'Maba', 'Steven', 'Marisha', 'Alex', 'Felipe', 'Airamis', 'Anna', 'Michael', 'Michael', 'Michael', 'Raymond', 'Michael', 'Gabriela', 'Gabriela', 'Kaka', 'Benjamin', 'Jo & Savannah', 'Jo & Savannah', 'J', 'Alexandra', 'Mohamed', 'Mohamed', 'Deloris', 'Deloris', 'Megan E', 'Brian', 'Gurpreet  Singh', 'Gurpreet  Singh', 'Yuval', 'Marcelo', 'Jie', 'Brendan', 'Sam', 'Andrew', 'Ash', 'Jenifer', 'Louise', nan, 'Kathleen', 'Janet', 'Albert', 'Stephany', 'Mariluz']\n",
    "\n",
    "9. What host has the highest total of prices and where are they located?\n",
    "\n",
    "The host with the highest total price is 'Sonder (NYC), with a total price of $82795.\n",
    "They are located in the Financial District, Murray Hill, Hell's Kitchen, Midtown, the Theater District, Chelsea, and the Upper East Side.\n",
    "\n",
    "\n",
    "10. When did Danielle from Queens last receive a review?\n",
    "\n",
    "The last time Danielle from Queens received a review was on 2019-07-08."
   ]
  }
 ],
 "metadata": {
  "kernelspec": {
   "display_name": "Python 3",
   "language": "python",
   "name": "python3"
  },
  "language_info": {
   "codemirror_mode": {
    "name": "ipython",
    "version": 3
   },
   "file_extension": ".py",
   "mimetype": "text/x-python",
   "name": "python",
   "nbconvert_exporter": "python",
   "pygments_lexer": "ipython3",
   "version": "3.11.2"
  }
 },
 "nbformat": 4,
 "nbformat_minor": 2
}
